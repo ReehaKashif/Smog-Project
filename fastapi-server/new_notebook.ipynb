{
 "cells": [
  {
   "cell_type": "code",
   "execution_count": 1,
   "metadata": {},
   "outputs": [],
   "source": [
    "import pandas as pd\n",
    "from datetime import datetime, timedelta\n",
    "from pytz import timezone"
   ]
  },
  {
   "cell_type": "code",
   "execution_count": 2,
   "metadata": {},
   "outputs": [],
   "source": [
    "def get_pakistan_time():\n",
    "    # Example of getting the current date and time in Pakistan\n",
    "    now = datetime.now(timezone('Asia/Karachi'))\n",
    "    # returning it in this format '2024-07-01 00:00:00'\n",
    "    formatted_time = now.strftime('%Y-%m-%d %H:00:00')\n",
    "    print(formatted_time)\n",
    "    return formatted_time"
   ]
  },
  {
   "cell_type": "code",
   "execution_count": 4,
   "metadata": {},
   "outputs": [],
   "source": [
    "LastMonth = pd.read_csv(\"LastMonth.csv\")"
   ]
  },
  {
   "cell_type": "code",
   "execution_count": 11,
   "metadata": {},
   "outputs": [],
   "source": [
    "def get_last_two_months_aqi(district_name, dataframe):\n",
    "    # Get current time in Pakistan\n",
    "    current_time = get_pakistan_time()\n",
    "    # Format the current time to match the CSV date format ('m/d/yyyy')\n",
    "    current_date = datetime.strptime(current_time, '%Y-%m-%d %H:%M:%S')\n",
    "    two_months_ago = current_date - timedelta(days=60)\n",
    "    \n",
    "    # Convert the formatted dates to match the CSV format\n",
    "    formatted_current_date = current_date.strftime('%m/%d/%Y')\n",
    "    formatted_two_months_ago = two_months_ago.strftime('%m/%d/%Y')\n",
    "\n",
    "    # Filter the DataFrame for the specified district and the last 2 months\n",
    "    filtered_df = dataframe[\n",
    "        (dataframe['Districts'] == district_name) &\n",
    "        (pd.to_datetime(dataframe['Date'], format='%m/%d/%Y') >= two_months_ago) &\n",
    "        (pd.to_datetime(dataframe['Date'], format='%m/%d/%Y') <= current_date)\n",
    "    ]\n",
    "    \n",
    "    # Convert the filtered DataFrame to a dictionary with lists for Date and AQI\n",
    "    result_dict = {\n",
    "        \"Date\": filtered_df['Date'].tolist(),\n",
    "        \"AQI\": filtered_df['AQI'].tolist()\n",
    "    }\n",
    "    \n",
    "    return result_dict"
   ]
  },
  {
   "cell_type": "code",
   "execution_count": 12,
   "metadata": {},
   "outputs": [
    {
     "name": "stdout",
     "output_type": "stream",
     "text": [
      "2024-11-16 14:00:00\n",
      "{'Date': ['9/18/2024', '9/19/2024', '9/20/2024', '9/21/2024', '9/22/2024', '9/23/2024', '9/24/2024', '9/25/2024', '9/26/2024', '9/27/2024', '9/28/2024', '9/29/2024', '9/30/2024', '10/1/2024', '10/2/2024', '10/3/2024', '10/4/2024', '10/5/2024', '10/6/2024', '10/7/2024', '10/8/2024', '10/9/2024', '10/10/2024', '10/11/2024', '10/12/2024', '10/13/2024', '10/14/2024', '10/15/2024', '10/16/2024', '10/17/2024', '10/18/2024', '10/19/2024', '10/20/2024', '10/21/2024', '10/22/2024', '10/23/2024', '10/24/2024', '10/25/2024', '10/26/2024', '10/27/2024', '10/28/2024', '10/29/2024', '10/30/2024', '10/31/2024', '11/1/2024', '11/2/2024', '11/3/2024', '11/4/2024', '11/5/2024', '11/6/2024', '11/7/2024', '11/8/2024', '11/9/2024', '11/10/2024', '11/11/2024', '11/12/2024', '11/13/2024', '11/14/2024', '11/15/2024', '11/16/2024'], 'AQI': [160.4286007, 144.557171, 137.4493259, 137.5167258, 133.1568146, 123.539013, 129.9028367, 126.1913099, 124.7878559, 116.664664, 133.3187937, 127.7639895, 113.0801775, 93.1871563, 97.56477435, 100.800991, 112.8826626, 116.326283, 102.1023467, 85.39450379, 78.15002206, 77.3935431, 80.07332372, 82.32051429, 94.2430659, 95.16475806, 94.94637391, 98.50763639, 116.9731854, 131.6117243, 133.48356, 123.8431608, 140.8490958, 150.7819793, 139.2672703, 123.8197078, 106.1989424, 98.3110767, 105.8834941, 125.7401165, 116.9469987, 109.2508915, 112.7677505, 107.3773084, 112.8117389, 144.2907191, 147.3105083, 145.9510048, 166.2664338, 161.4489202, 188.7218001, 204.9935689, 192.3570444, 172.2930569, 158.1961342, 195.5458607, 188.9588076, 197.8415479, 192.73412, 197.1937119]}\n"
     ]
    }
   ],
   "source": [
    "result = get_last_two_months_aqi(\"Attock\", LastMonth)\n",
    "print(result)\n"
   ]
  },
  {
   "cell_type": "code",
   "execution_count": null,
   "metadata": {},
   "outputs": [],
   "source": []
  }
 ],
 "metadata": {
  "kernelspec": {
   "display_name": "smog_env",
   "language": "python",
   "name": "python3"
  },
  "language_info": {
   "codemirror_mode": {
    "name": "ipython",
    "version": 3
   },
   "file_extension": ".py",
   "mimetype": "text/x-python",
   "name": "python",
   "nbconvert_exporter": "python",
   "pygments_lexer": "ipython3",
   "version": "3.11.9"
  }
 },
 "nbformat": 4,
 "nbformat_minor": 2
}
